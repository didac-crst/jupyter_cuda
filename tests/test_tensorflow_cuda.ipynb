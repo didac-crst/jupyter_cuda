{
 "cells": [
  {
   "cell_type": "code",
   "execution_count": null,
   "metadata": {},
   "outputs": [],
   "source": [
    "## Test Tensorflow working properly with CUDA (GPU)"
   ]
  },
  {
   "cell_type": "code",
   "execution_count": null,
   "metadata": {},
   "outputs": [],
   "source": [
    "import sys\n",
    "import timeit\n",
    "import tensorflow as tf"
   ]
  },
  {
   "cell_type": "markdown",
   "metadata": {},
   "source": [
    "sys.version"
   ]
  },
  {
   "cell_type": "code",
   "execution_count": null,
   "metadata": {},
   "outputs": [],
   "source": [
    "# Check if TensorFlow is using GPU\n",
    "print(tf.config.list_physical_devices('GPU'))\n"
   ]
  },
  {
   "cell_type": "code",
   "execution_count": null,
   "metadata": {},
   "outputs": [],
   "source": [
    "# Create a simple TensorFlow computation\n",
    "def compute():\n",
    "    with tf.device('/cpu:0'):\n",
    "        a = tf.random.normal([1000, 1000])\n",
    "        b = tf.random.normal([1000, 1000])\n",
    "        c = tf.matmul(a, b)\n",
    "    return c\n",
    "\n",
    "# Benchmark CPU performance\n",
    "cpu_time = timeit.timeit(compute, number=10)\n",
    "print(f\"CPU Time: {cpu_time} seconds\")\n",
    "\n",
    "# Benchmark GPU performance\n",
    "with tf.device('/gpu:0'):\n",
    "    gpu_time = timeit.timeit(compute, number=10)\n",
    "print(f\"GPU Time: {gpu_time} seconds\")\n",
    "\n",
    "# Print speedup\n",
    "print(f\"Speedup: {cpu_time / gpu_time}\")"
   ]
  }
 ],
 "metadata": {
  "language_info": {
   "name": "python"
  }
 },
 "nbformat": 4,
 "nbformat_minor": 2
}
